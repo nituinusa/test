{
 "cells": [
  {
   "cell_type": "code",
   "execution_count": 213,
   "metadata": {},
   "outputs": [],
   "source": [
    "from PIL import Image\n",
    "import matplotlib.pyplot as plt\n",
    "import numpy as np\n",
    "import keras\n",
    "from keras.models import Sequential\n",
    "from keras.layers import MaxPooling2D, Dense, Flatten, Conv2D\n",
    "from keras.callbacks import EarlyStopping\n",
    "from keras import backend as K\n",
    "import glob"
   ]
  },
  {
   "cell_type": "code",
   "execution_count": 160,
   "metadata": {},
   "outputs": [],
   "source": [
    "img_height=80\n",
    "img_width=80\n",
    "channel=3\n",
    "X_train=np.empty([8005, img_height, img_width, channel], np.int32)\n",
    "X_test=np.empty([2023, img_height, img_width, channel], np.int32)\n",
    "y_train=np.full([8005,], fill_value=5)\n",
    "y_test=np.full([2023,], fill_value=6)\n",
    "i = 0\n",
    "# cat = 0 , dog =1"
   ]
  },
  {
   "cell_type": "code",
   "execution_count": 161,
   "metadata": {},
   "outputs": [],
   "source": [
    "for filepath in glob.iglob('training_set/cats/*.jpg'):\n",
    "    img=Image.open(filepath)\n",
    "    img=img.resize((img_height,img_width), Image.ANTIALIAS)\n",
    "    img=np.array(img)\n",
    "    y_train[i] = 0\n",
    "    X_train[i] = img\n",
    "    i = i + 1\n",
    "    \n",
    "for filepath in glob.iglob('training_set/dogs/*.jpg'):\n",
    "    img=Image.open(filepath)\n",
    "    img=img.resize((img_height,img_width), Image.ANTIALIAS)\n",
    "    img=np.array(img)\n",
    "    y_train[i] = 1\n",
    "    X_train[i] = img\n",
    "    i = i + 1    \n",
    "    \n",
    "i=0    \n",
    "    \n",
    "for filepath in glob.iglob('test_set/cats/*.jpg'):\n",
    "    img=Image.open(filepath)\n",
    "    img=img.resize((img_height,img_width), Image.ANTIALIAS)\n",
    "    img=np.array(img)\n",
    "    y_test[i] = 0\n",
    "    X_test[i] = img\n",
    "    i = i + 1\n",
    "    \n",
    "for filepath in glob.iglob('test_set/dogs/*.jpg'):\n",
    "    img=Image.open(filepath)\n",
    "    img=img.resize((img_height,img_width), Image.ANTIALIAS)\n",
    "    img=np.array(img)\n",
    "    y_test[i] = 1\n",
    "    X_test[i] = img\n",
    "    i = i + 1      "
   ]
  },
  {
   "cell_type": "code",
   "execution_count": 162,
   "metadata": {},
   "outputs": [],
   "source": [
    "X_train = X_train/255\n",
    "X_test  = X_test/255\n",
    "y_train = keras.utils.to_categorical(y_train, 2)\n",
    "y_test  = keras.utils.to_categorical(y_test, 2)\n",
    "input_shape=(img_height, img_width, channel)"
   ]
  },
  {
   "cell_type": "code",
   "execution_count": 208,
   "metadata": {},
   "outputs": [],
   "source": [
    "model = Sequential()\n",
    "model.add(Conv2D(32, kernel_size=(2,2), activation='relu', input_shape=input_shape))\n",
    "model.add(MaxPooling2D(pool_size=(2,2)))\n",
    "model.add(Conv2D(64, kernel_size=(3,3), activation='relu'))\n",
    "model.add(MaxPooling2D(pool_size=(3,3)))\n",
    "model.add(Flatten())\n",
    "model.add(Dense(2, activation='softmax'))\n",
    "\n",
    "model.compile(loss='categorical_crossentropy', optimizer='adam', metrics=['accuracy'])"
   ]
  },
  {
   "cell_type": "code",
   "execution_count": 214,
   "metadata": {},
   "outputs": [
    {
     "name": "stdout",
     "output_type": "stream",
     "text": [
      "Train on 8005 samples, validate on 2023 samples\n",
      "Epoch 1/10\n",
      "8005/8005 [==============================] - 28s 4ms/step - loss: 0.3914 - accuracy: 0.8216 - val_loss: 0.4703 - val_accuracy: 0.7855\n",
      "Epoch 2/10\n",
      "8005/8005 [==============================] - 28s 4ms/step - loss: 0.3836 - accuracy: 0.8234 - val_loss: 0.4651 - val_accuracy: 0.7919\n",
      "Epoch 3/10\n",
      "8005/8005 [==============================] - 29s 4ms/step - loss: 0.3560 - accuracy: 0.8446 - val_loss: 0.4623 - val_accuracy: 0.7949\n",
      "Epoch 4/10\n",
      "8005/8005 [==============================] - 31s 4ms/step - loss: 0.3396 - accuracy: 0.8512 - val_loss: 0.4672 - val_accuracy: 0.7909\n",
      "Epoch 5/10\n",
      "8005/8005 [==============================] - 32s 4ms/step - loss: 0.3291 - accuracy: 0.8572 - val_loss: 0.4855 - val_accuracy: 0.7810\n",
      "2023/2023 [==============================] - 2s 964us/step\n",
      "Loss: 0.48554118811436003\n",
      "Accuracy: 0.7810183167457581\n"
     ]
    }
   ],
   "source": [
    "early_stopping_monitor = EarlyStopping(patience=2)\n",
    "model.fit(X_train, y_train, batch_size=128, epochs=10, verbose=1, validation_data=(X_test, y_test), callbacks=[early_stopping_monitor])\n",
    "score=model.evaluate(X_test, y_test)\n",
    "print('Loss:', score[0])\n",
    "print('Accuracy:',score[1])"
   ]
  },
  {
   "cell_type": "code",
   "execution_count": 211,
   "metadata": {},
   "outputs": [],
   "source": [
    "model.save('cat_dog.h5')"
   ]
  },
  {
   "cell_type": "markdown",
   "metadata": {},
   "source": [
    "This model achieved an accuracy of 78%. Data augmentation can probably be used to improve accuracy."
   ]
  }
 ],
 "metadata": {
  "kernelspec": {
   "display_name": "Python 3",
   "language": "python",
   "name": "python3"
  },
  "language_info": {
   "codemirror_mode": {
    "name": "ipython",
    "version": 3
   },
   "file_extension": ".py",
   "mimetype": "text/x-python",
   "name": "python",
   "nbconvert_exporter": "python",
   "pygments_lexer": "ipython3",
   "version": "3.7.5"
  }
 },
 "nbformat": 4,
 "nbformat_minor": 4
}
