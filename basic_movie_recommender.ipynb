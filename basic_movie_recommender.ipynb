{
 "cells": [
  {
   "cell_type": "markdown",
   "metadata": {},
   "source": [
    "# Basic Movie Recommender\n",
    "DataSet:\n",
    " - This dataset is from [Open Movie Database](http://www.omdbapi.com/)\n",
    " - It was downloaded from their website using the APIs provided\n",
    " - We have roughly 65K movies and their attributes such as rating, vote count and actors etc.\n",
    " \n",
    "Objective:\n",
    " - Build a basic movie recommender that recommends movies based on a score\n",
    " - The score for a movie is calculated based on number of votes and the ratings\n",
    " - Higher score translates to higher recommendation"
   ]
  },
  {
   "cell_type": "code",
   "execution_count": 24,
   "metadata": {},
   "outputs": [],
   "source": [
    "import pandas as pd\n",
    "import matplotlib.pyplot as plt"
   ]
  },
  {
   "cell_type": "code",
   "execution_count": 25,
   "metadata": {},
   "outputs": [],
   "source": [
    "movies = pd.read_json('movies.json')"
   ]
  },
  {
   "cell_type": "code",
   "execution_count": 26,
   "metadata": {},
   "outputs": [
    {
     "data": {
      "text/html": [
       "<div>\n",
       "<style scoped>\n",
       "    .dataframe tbody tr th:only-of-type {\n",
       "        vertical-align: middle;\n",
       "    }\n",
       "\n",
       "    .dataframe tbody tr th {\n",
       "        vertical-align: top;\n",
       "    }\n",
       "\n",
       "    .dataframe thead th {\n",
       "        text-align: right;\n",
       "    }\n",
       "</style>\n",
       "<table border=\"1\" class=\"dataframe\">\n",
       "  <thead>\n",
       "    <tr style=\"text-align: right;\">\n",
       "      <th></th>\n",
       "      <th>Title</th>\n",
       "      <th>Year</th>\n",
       "      <th>Rated</th>\n",
       "      <th>Released</th>\n",
       "      <th>Runtime</th>\n",
       "      <th>Genre</th>\n",
       "      <th>Director</th>\n",
       "      <th>Writer</th>\n",
       "      <th>Actors</th>\n",
       "      <th>Plot</th>\n",
       "      <th>...</th>\n",
       "      <th>DVD</th>\n",
       "      <th>BoxOffice</th>\n",
       "      <th>Production</th>\n",
       "      <th>Website</th>\n",
       "      <th>Response</th>\n",
       "      <th>Season</th>\n",
       "      <th>Episode</th>\n",
       "      <th>seriesID</th>\n",
       "      <th>totalSeasons</th>\n",
       "      <th>Error</th>\n",
       "    </tr>\n",
       "  </thead>\n",
       "  <tbody>\n",
       "    <tr>\n",
       "      <th>0</th>\n",
       "      <td>Toy Story</td>\n",
       "      <td>1995</td>\n",
       "      <td>G</td>\n",
       "      <td>22 Nov 1995</td>\n",
       "      <td>81 min</td>\n",
       "      <td>Animation, Adventure, Comedy, Family, Fantasy</td>\n",
       "      <td>John Lasseter</td>\n",
       "      <td>John Lasseter (original story by), Pete Docter...</td>\n",
       "      <td>Tom Hanks, Tim Allen, Don Rickles, Jim Varney</td>\n",
       "      <td>A little boy named Andy loves to be in his roo...</td>\n",
       "      <td>...</td>\n",
       "      <td>20 Mar 2001</td>\n",
       "      <td>N/A</td>\n",
       "      <td>Buena Vista</td>\n",
       "      <td>N/A</td>\n",
       "      <td>True</td>\n",
       "      <td>None</td>\n",
       "      <td>None</td>\n",
       "      <td>None</td>\n",
       "      <td>None</td>\n",
       "      <td>None</td>\n",
       "    </tr>\n",
       "    <tr>\n",
       "      <th>1</th>\n",
       "      <td>Jumanji</td>\n",
       "      <td>1995</td>\n",
       "      <td>PG</td>\n",
       "      <td>15 Dec 1995</td>\n",
       "      <td>104 min</td>\n",
       "      <td>Adventure, Comedy, Family, Fantasy</td>\n",
       "      <td>Joe Johnston</td>\n",
       "      <td>Jonathan Hensleigh (screenplay by), Greg Taylo...</td>\n",
       "      <td>Robin Williams, Jonathan Hyde, Kirsten Dunst, ...</td>\n",
       "      <td>After being trapped in a jungle board game for...</td>\n",
       "      <td>...</td>\n",
       "      <td>25 Jan 2000</td>\n",
       "      <td>N/A</td>\n",
       "      <td>Sony Pictures Home Entertainment</td>\n",
       "      <td>N/A</td>\n",
       "      <td>True</td>\n",
       "      <td>None</td>\n",
       "      <td>None</td>\n",
       "      <td>None</td>\n",
       "      <td>None</td>\n",
       "      <td>None</td>\n",
       "    </tr>\n",
       "    <tr>\n",
       "      <th>2</th>\n",
       "      <td>Grumpier Old Men</td>\n",
       "      <td>1995</td>\n",
       "      <td>PG-13</td>\n",
       "      <td>22 Dec 1995</td>\n",
       "      <td>101 min</td>\n",
       "      <td>Comedy, Romance</td>\n",
       "      <td>Howard Deutch</td>\n",
       "      <td>Mark Steven Johnson (characters), Mark Steven ...</td>\n",
       "      <td>Walter Matthau, Jack Lemmon, Sophia Loren, Ann...</td>\n",
       "      <td>Things don't seem to change much in Wabasha Co...</td>\n",
       "      <td>...</td>\n",
       "      <td>18 Nov 1997</td>\n",
       "      <td>N/A</td>\n",
       "      <td>Warner Home Video</td>\n",
       "      <td>N/A</td>\n",
       "      <td>True</td>\n",
       "      <td>None</td>\n",
       "      <td>None</td>\n",
       "      <td>None</td>\n",
       "      <td>None</td>\n",
       "      <td>None</td>\n",
       "    </tr>\n",
       "    <tr>\n",
       "      <th>3</th>\n",
       "      <td>Waiting to Exhale</td>\n",
       "      <td>1995</td>\n",
       "      <td>R</td>\n",
       "      <td>22 Dec 1995</td>\n",
       "      <td>124 min</td>\n",
       "      <td>Comedy, Drama, Romance</td>\n",
       "      <td>Forest Whitaker</td>\n",
       "      <td>Terry McMillan (novel), Terry McMillan (screen...</td>\n",
       "      <td>Whitney Houston, Angela Bassett, Loretta Devin...</td>\n",
       "      <td>This story based on the best selling novel by ...</td>\n",
       "      <td>...</td>\n",
       "      <td>06 Mar 2001</td>\n",
       "      <td>N/A</td>\n",
       "      <td>Twentieth Century Fox Home Entertainment</td>\n",
       "      <td>N/A</td>\n",
       "      <td>True</td>\n",
       "      <td>None</td>\n",
       "      <td>None</td>\n",
       "      <td>None</td>\n",
       "      <td>None</td>\n",
       "      <td>None</td>\n",
       "    </tr>\n",
       "    <tr>\n",
       "      <th>4</th>\n",
       "      <td>Father of the Bride Part II</td>\n",
       "      <td>1995</td>\n",
       "      <td>PG</td>\n",
       "      <td>08 Dec 1995</td>\n",
       "      <td>106 min</td>\n",
       "      <td>Comedy, Family, Romance</td>\n",
       "      <td>Charles Shyer</td>\n",
       "      <td>Albert Hackett (screenplay \"Father's Little Di...</td>\n",
       "      <td>Steve Martin, Diane Keaton, Martin Short, Kimb...</td>\n",
       "      <td>In this sequel to \"Father of the Bride\", Georg...</td>\n",
       "      <td>...</td>\n",
       "      <td>09 May 2000</td>\n",
       "      <td>N/A</td>\n",
       "      <td>Disney</td>\n",
       "      <td>N/A</td>\n",
       "      <td>True</td>\n",
       "      <td>None</td>\n",
       "      <td>None</td>\n",
       "      <td>None</td>\n",
       "      <td>None</td>\n",
       "      <td>None</td>\n",
       "    </tr>\n",
       "  </tbody>\n",
       "</table>\n",
       "<p>5 rows × 30 columns</p>\n",
       "</div>"
      ],
      "text/plain": [
       "                         Title  Year  Rated     Released  Runtime  \\\n",
       "0                    Toy Story  1995      G  22 Nov 1995   81 min   \n",
       "1                      Jumanji  1995     PG  15 Dec 1995  104 min   \n",
       "2             Grumpier Old Men  1995  PG-13  22 Dec 1995  101 min   \n",
       "3            Waiting to Exhale  1995      R  22 Dec 1995  124 min   \n",
       "4  Father of the Bride Part II  1995     PG  08 Dec 1995  106 min   \n",
       "\n",
       "                                           Genre         Director  \\\n",
       "0  Animation, Adventure, Comedy, Family, Fantasy    John Lasseter   \n",
       "1             Adventure, Comedy, Family, Fantasy     Joe Johnston   \n",
       "2                                Comedy, Romance    Howard Deutch   \n",
       "3                         Comedy, Drama, Romance  Forest Whitaker   \n",
       "4                        Comedy, Family, Romance    Charles Shyer   \n",
       "\n",
       "                                              Writer  \\\n",
       "0  John Lasseter (original story by), Pete Docter...   \n",
       "1  Jonathan Hensleigh (screenplay by), Greg Taylo...   \n",
       "2  Mark Steven Johnson (characters), Mark Steven ...   \n",
       "3  Terry McMillan (novel), Terry McMillan (screen...   \n",
       "4  Albert Hackett (screenplay \"Father's Little Di...   \n",
       "\n",
       "                                              Actors  \\\n",
       "0      Tom Hanks, Tim Allen, Don Rickles, Jim Varney   \n",
       "1  Robin Williams, Jonathan Hyde, Kirsten Dunst, ...   \n",
       "2  Walter Matthau, Jack Lemmon, Sophia Loren, Ann...   \n",
       "3  Whitney Houston, Angela Bassett, Loretta Devin...   \n",
       "4  Steve Martin, Diane Keaton, Martin Short, Kimb...   \n",
       "\n",
       "                                                Plot  ...          DVD  \\\n",
       "0  A little boy named Andy loves to be in his roo...  ...  20 Mar 2001   \n",
       "1  After being trapped in a jungle board game for...  ...  25 Jan 2000   \n",
       "2  Things don't seem to change much in Wabasha Co...  ...  18 Nov 1997   \n",
       "3  This story based on the best selling novel by ...  ...  06 Mar 2001   \n",
       "4  In this sequel to \"Father of the Bride\", Georg...  ...  09 May 2000   \n",
       "\n",
       "  BoxOffice                                Production Website Response Season  \\\n",
       "0       N/A                               Buena Vista     N/A     True   None   \n",
       "1       N/A          Sony Pictures Home Entertainment     N/A     True   None   \n",
       "2       N/A                         Warner Home Video     N/A     True   None   \n",
       "3       N/A  Twentieth Century Fox Home Entertainment     N/A     True   None   \n",
       "4       N/A                                    Disney     N/A     True   None   \n",
       "\n",
       "  Episode seriesID totalSeasons Error  \n",
       "0    None     None         None  None  \n",
       "1    None     None         None  None  \n",
       "2    None     None         None  None  \n",
       "3    None     None         None  None  \n",
       "4    None     None         None  None  \n",
       "\n",
       "[5 rows x 30 columns]"
      ]
     },
     "execution_count": 26,
     "metadata": {},
     "output_type": "execute_result"
    }
   ],
   "source": [
    "movies.head()"
   ]
  },
  {
   "cell_type": "markdown",
   "metadata": {},
   "source": [
    "For the basic movie recommender, I will be using imdbRating and imdbVotes"
   ]
  },
  {
   "cell_type": "code",
   "execution_count": 27,
   "metadata": {},
   "outputs": [],
   "source": [
    "movies = movies[['Title','imdbRating','imdbVotes']]"
   ]
  },
  {
   "cell_type": "markdown",
   "metadata": {},
   "source": [
    "Lets check our data for missing values"
   ]
  },
  {
   "cell_type": "code",
   "execution_count": 28,
   "metadata": {},
   "outputs": [
    {
     "data": {
      "text/plain": [
       "Title         7\n",
       "imdbRating    5\n",
       "imdbVotes     5\n",
       "dtype: int64"
      ]
     },
     "execution_count": 28,
     "metadata": {},
     "output_type": "execute_result"
    }
   ],
   "source": [
    "movies.isnull().sum(axis=0)"
   ]
  },
  {
   "cell_type": "markdown",
   "metadata": {},
   "source": [
    "Looks like we have some NAs. Lets take care of these"
   ]
  },
  {
   "cell_type": "code",
   "execution_count": 29,
   "metadata": {},
   "outputs": [],
   "source": [
    "indexes_to_drop = movies[(movies.Title.isnull()==True) | (movies.imdbRating=='N/A') | (movies.imdbVotes=='N/A')].index"
   ]
  },
  {
   "cell_type": "code",
   "execution_count": 30,
   "metadata": {},
   "outputs": [],
   "source": [
    "movies = movies.drop(axis='index', index=indexes_to_drop)"
   ]
  },
  {
   "cell_type": "markdown",
   "metadata": {},
   "source": [
    "Lets make sure everything is clean now"
   ]
  },
  {
   "cell_type": "code",
   "execution_count": 31,
   "metadata": {},
   "outputs": [
    {
     "data": {
      "text/html": [
       "<div>\n",
       "<style scoped>\n",
       "    .dataframe tbody tr th:only-of-type {\n",
       "        vertical-align: middle;\n",
       "    }\n",
       "\n",
       "    .dataframe tbody tr th {\n",
       "        vertical-align: top;\n",
       "    }\n",
       "\n",
       "    .dataframe thead th {\n",
       "        text-align: right;\n",
       "    }\n",
       "</style>\n",
       "<table border=\"1\" class=\"dataframe\">\n",
       "  <thead>\n",
       "    <tr style=\"text-align: right;\">\n",
       "      <th></th>\n",
       "      <th>Title</th>\n",
       "      <th>imdbRating</th>\n",
       "      <th>imdbVotes</th>\n",
       "    </tr>\n",
       "  </thead>\n",
       "  <tbody>\n",
       "  </tbody>\n",
       "</table>\n",
       "</div>"
      ],
      "text/plain": [
       "Empty DataFrame\n",
       "Columns: [Title, imdbRating, imdbVotes]\n",
       "Index: []"
      ]
     },
     "execution_count": 31,
     "metadata": {},
     "output_type": "execute_result"
    }
   ],
   "source": [
    "movies[(movies.Title.isnull()==True) | (movies.imdbRating=='N/A') | (movies.imdbVotes=='N/A')]"
   ]
  },
  {
   "cell_type": "markdown",
   "metadata": {},
   "source": [
    "Cool!, All clean now. Lets convert imdbRating and imdbVotes to Numbers"
   ]
  },
  {
   "cell_type": "code",
   "execution_count": 32,
   "metadata": {},
   "outputs": [],
   "source": [
    "movies.imdbRating = movies.imdbRating.astype(float)"
   ]
  },
  {
   "cell_type": "code",
   "execution_count": 33,
   "metadata": {},
   "outputs": [],
   "source": [
    "movies.imdbVotes  = movies.imdbVotes.replace(\",\",\"\", regex=True)\n",
    "movies.imdbVotes = movies.imdbVotes.astype(int)"
   ]
  },
  {
   "cell_type": "code",
   "execution_count": 34,
   "metadata": {},
   "outputs": [
    {
     "data": {
      "text/plain": [
       "count    61982.000000\n",
       "mean         6.279065\n",
       "std          1.177493\n",
       "min          1.200000\n",
       "25%          5.600000\n",
       "50%          6.500000\n",
       "75%          7.100000\n",
       "max          9.900000\n",
       "Name: imdbRating, dtype: float64"
      ]
     },
     "execution_count": 34,
     "metadata": {},
     "output_type": "execute_result"
    }
   ],
   "source": [
    "movies.imdbRating.describe()"
   ]
  },
  {
   "cell_type": "code",
   "execution_count": 35,
   "metadata": {},
   "outputs": [
    {
     "data": {
      "image/png": "[encoded data removed]",
      "text/plain": [
       "<Figure size 432x288 with 1 Axes>"
      ]
     },
     "metadata": {
      "needs_background": "light"
     },
     "output_type": "display_data"
    }
   ],
   "source": [
    "movies.imdbRating.hist(bins=50)\n",
    "plt.show()"
   ]
  },
  {
   "cell_type": "markdown",
   "metadata": {},
   "source": [
    "we can see that the plot is almost normal with a little bit of skew to the left. We have fewer highly rated movies than the average or below average movies."
   ]
  },
  {
   "cell_type": "code",
   "execution_count": 36,
   "metadata": {},
   "outputs": [
    {
     "data": {
      "image/png": "[encoded data removed]",
      "text/plain": [
       "<Figure size 432x288 with 1 Axes>"
      ]
     },
     "metadata": {
      "needs_background": "light"
     },
     "output_type": "display_data"
    }
   ],
   "source": [
    "movies.plot(kind='scatter',x='imdbRating', y='imdbVotes')\n",
    "plt.show()"
   ]
  },
  {
   "cell_type": "markdown",
   "metadata": {},
   "source": [
    "Highly rated movies generally have higher number of votes"
   ]
  },
  {
   "cell_type": "markdown",
   "metadata": {},
   "source": [
    "Calculate score Using the (Bayesian Average) formula below\n",
    "\n",
    "$\n",
    "\\begin{align}\n",
    "score = \\frac{v}{(v+m)}{.r} + \\frac{m}{(v+m)}{.c}\n",
    "\\end{align}\n",
    "$\n",
    "\n",
    " - v : the number of votes for the movies\n",
    " - m : minium number of votes needed to qualify for listing\n",
    " - r : movie rating\n",
    " - c : mean movie rating across all movies"
   ]
  },
  {
   "cell_type": "code",
   "execution_count": 37,
   "metadata": {},
   "outputs": [
    {
     "name": "stdout",
     "output_type": "stream",
     "text": [
      "6.279064889806717\n"
     ]
    }
   ],
   "source": [
    "c = movies.imdbRating.mean()\n",
    "print(c)"
   ]
  },
  {
   "cell_type": "code",
   "execution_count": 38,
   "metadata": {},
   "outputs": [
    {
     "name": "stdout",
     "output_type": "stream",
     "text": [
      "17230.0\n"
     ]
    }
   ],
   "source": [
    "movies.describe()\n",
    "m = round(movies.imdbVotes.quantile(0.9),0)\n",
    "print(m)"
   ]
  },
  {
   "cell_type": "markdown",
   "metadata": {},
   "source": [
    "using 17230 as minimum number of votes needed to qualify for listing"
   ]
  },
  {
   "cell_type": "code",
   "execution_count": 39,
   "metadata": {},
   "outputs": [],
   "source": [
    "def calc_score(x, m=m, c=c):\n",
    "    v = x['imdbVotes']\n",
    "    r = x['imdbRating']\n",
    "    return v/(v+m) *r + m/(v+m) *c"
   ]
  },
  {
   "cell_type": "code",
   "execution_count": 40,
   "metadata": {},
   "outputs": [],
   "source": [
    "base_recommended_movies = movies[movies.imdbVotes > m].copy()"
   ]
  },
  {
   "cell_type": "code",
   "execution_count": 41,
   "metadata": {},
   "outputs": [],
   "source": [
    "base_recommended_movies.loc[:,'score'] =  base_recommended_movies.apply(calc_score, axis=1).values"
   ]
  },
  {
   "cell_type": "code",
   "execution_count": 42,
   "metadata": {},
   "outputs": [
    {
     "data": {
      "text/html": [
       "<div>\n",
       "<style scoped>\n",
       "    .dataframe tbody tr th:only-of-type {\n",
       "        vertical-align: middle;\n",
       "    }\n",
       "\n",
       "    .dataframe tbody tr th {\n",
       "        vertical-align: top;\n",
       "    }\n",
       "\n",
       "    .dataframe thead th {\n",
       "        text-align: right;\n",
       "    }\n",
       "</style>\n",
       "<table border=\"1\" class=\"dataframe\">\n",
       "  <thead>\n",
       "    <tr style=\"text-align: right;\">\n",
       "      <th></th>\n",
       "      <th>Title</th>\n",
       "      <th>imdbRating</th>\n",
       "      <th>imdbVotes</th>\n",
       "      <th>score</th>\n",
       "    </tr>\n",
       "  </thead>\n",
       "  <tbody>\n",
       "    <tr>\n",
       "      <th>45593</th>\n",
       "      <td>Band of Brothers</td>\n",
       "      <td>9.5</td>\n",
       "      <td>344457</td>\n",
       "      <td>9.346561</td>\n",
       "    </tr>\n",
       "    <tr>\n",
       "      <th>314</th>\n",
       "      <td>The Shawshank Redemption</td>\n",
       "      <td>9.3</td>\n",
       "      <td>2188727</td>\n",
       "      <td>9.276404</td>\n",
       "    </tr>\n",
       "    <tr>\n",
       "      <th>840</th>\n",
       "      <td>The Godfather</td>\n",
       "      <td>9.2</td>\n",
       "      <td>1509742</td>\n",
       "      <td>9.167041</td>\n",
       "    </tr>\n",
       "    <tr>\n",
       "      <th>40597</th>\n",
       "      <td>Planet Earth</td>\n",
       "      <td>9.4</td>\n",
       "      <td>157420</td>\n",
       "      <td>9.092106</td>\n",
       "    </tr>\n",
       "    <tr>\n",
       "      <th>12221</th>\n",
       "      <td>The Dark Knight</td>\n",
       "      <td>9.0</td>\n",
       "      <td>2173344</td>\n",
       "      <td>8.978598</td>\n",
       "    </tr>\n",
       "    <tr>\n",
       "      <th>1190</th>\n",
       "      <td>The Godfather: Part II</td>\n",
       "      <td>9.0</td>\n",
       "      <td>1057242</td>\n",
       "      <td>8.956368</td>\n",
       "    </tr>\n",
       "    <tr>\n",
       "      <th>45741</th>\n",
       "      <td>Planet Earth II</td>\n",
       "      <td>9.5</td>\n",
       "      <td>84820</td>\n",
       "      <td>8.956181</td>\n",
       "    </tr>\n",
       "    <tr>\n",
       "      <th>292</th>\n",
       "      <td>Pulp Fiction</td>\n",
       "      <td>8.9</td>\n",
       "      <td>1721422</td>\n",
       "      <td>8.874027</td>\n",
       "    </tr>\n",
       "    <tr>\n",
       "      <th>7028</th>\n",
       "      <td>The Lord of the Rings: The Return of the King</td>\n",
       "      <td>8.9</td>\n",
       "      <td>1558973</td>\n",
       "      <td>8.871350</td>\n",
       "    </tr>\n",
       "    <tr>\n",
       "      <th>51245</th>\n",
       "      <td>Cosmos</td>\n",
       "      <td>9.3</td>\n",
       "      <td>102622</td>\n",
       "      <td>8.865708</td>\n",
       "    </tr>\n",
       "  </tbody>\n",
       "</table>\n",
       "</div>"
      ],
      "text/plain": [
       "                                               Title  imdbRating  imdbVotes  \\\n",
       "45593                               Band of Brothers         9.5     344457   \n",
       "314                         The Shawshank Redemption         9.3    2188727   \n",
       "840                                    The Godfather         9.2    1509742   \n",
       "40597                                   Planet Earth         9.4     157420   \n",
       "12221                                The Dark Knight         9.0    2173344   \n",
       "1190                          The Godfather: Part II         9.0    1057242   \n",
       "45741                                Planet Earth II         9.5      84820   \n",
       "292                                     Pulp Fiction         8.9    1721422   \n",
       "7028   The Lord of the Rings: The Return of the King         8.9    1558973   \n",
       "51245                                         Cosmos         9.3     102622   \n",
       "\n",
       "          score  \n",
       "45593  9.346561  \n",
       "314    9.276404  \n",
       "840    9.167041  \n",
       "40597  9.092106  \n",
       "12221  8.978598  \n",
       "1190   8.956368  \n",
       "45741  8.956181  \n",
       "292    8.874027  \n",
       "7028   8.871350  \n",
       "51245  8.865708  "
      ]
     },
     "execution_count": 42,
     "metadata": {},
     "output_type": "execute_result"
    }
   ],
   "source": [
    "base_recommended_movies.sort_values(by='score', ascending=False, axis=0)[0:10]"
   ]
  },
  {
   "cell_type": "markdown",
   "metadata": {},
   "source": [
    "Cool! The list contains some of my favorite movies too."
   ]
  }
 ],
 "metadata": {
  "kernelspec": {
   "display_name": "Python 3",
   "language": "python",
   "name": "python3"
  },
  "language_info": {
   "codemirror_mode": {
    "name": "ipython",
    "version": 3
   },
   "file_extension": ".py",
   "mimetype": "text/x-python",
   "name": "python",
   "nbconvert_exporter": "python",
   "pygments_lexer": "ipython3",
   "version": "3.7.5"
  }
 },
 "nbformat": 4,
 "nbformat_minor": 4
}
