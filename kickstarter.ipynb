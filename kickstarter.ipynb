{
 "cells": [
  {
   "cell_type": "markdown",
   "metadata": {},
   "source": [
    "# Exploratory Analysis Of Kickstarter Data\n",
    " - Kickstarter is an American public benefit corporation based in Brooklyn, New York, that maintains a global crowdfunding platform focused on creativity <br>\n",
    " - The company's stated mission is to \"help bring creative projects to life\" <br>\n",
    " - As of December 2019, Kickstarter has received more than $4.6 billion in pledges from 17.2 million backers to fund 445,000 projects\n",
    " \n",
    "## Dataset\n",
    " - The dataset is made available by General Assembly\n",
    " - There are 45,957 observations and 17 features\n",
    " \n",
    "## Interesting facts about the data:\n",
    " - Shortest successful campaign was for one day to raise 500 dollars for a camera  <br> \n",
    " - Longest successful campaign was for 92 days to raise 7500 dollars for a documentary  \n",
    " - Highest goal amount for a successful campaign (Video Game) was 900K dollars and it raised nearly 3 million dollars by 61K backers in merely 35 days  \n",
    " - Pebble-E Watch for Android and Iphone raised 10 million dollars, 100 times their goal amount by 68K backers in 38 days  \n",
    " \n",
    "## Analysis Objective:\n",
    " - We want to be able to provide recommendations to project teams seeking to raise funds using crowfunding on Kickstarter\n",
    " - What is the best length of time to run a campaign?\n",
    " - What is an ideal pledge goal?\n",
    " - What type of projects would be most successful at getting funded?\n",
    " - Is there an ideal month/day to launch a campaign?\n",
    " \n",
    "[Presentation Slides](https://drive.google.com/file/d/1b_2aO6fQ_k1-p9mHhu7uQz67l6nKelf2/view?usp=sharing)"
   ]
  },
  {
   "cell_type": "code",
   "execution_count": 1,
   "metadata": {},
   "outputs": [],
   "source": [
    "import pandas as pd\n",
    "import matplotlib.pyplot as plt\n",
    "import seaborn as sns\n",
    "import numpy as np"
   ]
  },
  {
   "cell_type": "code",
   "execution_count": 2,
   "metadata": {},
   "outputs": [],
   "source": [
    "kick = pd.read_csv('DSI_kickstarterscrape_dataset.csv')"
   ]
  },
  {
   "cell_type": "code",
   "execution_count": 3,
   "metadata": {},
   "outputs": [
    {
     "data": {
      "text/plain": [
       "(45957, 17)"
      ]
     },
     "execution_count": 3,
     "metadata": {},
     "output_type": "execute_result"
    }
   ],
   "source": [
    "kick.shape"
   ]
  },
  {
   "cell_type": "code",
   "execution_count": 4,
   "metadata": {},
   "outputs": [
    {
     "data": {
      "text/html": [
       "<div>\n",
       "<style scoped>\n",
       "    .dataframe tbody tr th:only-of-type {\n",
       "        vertical-align: middle;\n",
       "    }\n",
       "\n",
       "    .dataframe tbody tr th {\n",
       "        vertical-align: top;\n",
       "    }\n",
       "\n",
       "    .dataframe thead th {\n",
       "        text-align: right;\n",
       "    }\n",
       "</style>\n",
       "<table border=\"1\" class=\"dataframe\">\n",
       "  <thead>\n",
       "    <tr style=\"text-align: right;\">\n",
       "      <th></th>\n",
       "      <th>project id</th>\n",
       "      <th>name</th>\n",
       "      <th>url</th>\n",
       "      <th>category</th>\n",
       "      <th>subcategory</th>\n",
       "      <th>location</th>\n",
       "      <th>status</th>\n",
       "      <th>goal</th>\n",
       "      <th>pledged</th>\n",
       "      <th>funded percentage</th>\n",
       "      <th>backers</th>\n",
       "      <th>funded date</th>\n",
       "      <th>levels</th>\n",
       "      <th>reward levels</th>\n",
       "      <th>updates</th>\n",
       "      <th>comments</th>\n",
       "      <th>duration</th>\n",
       "    </tr>\n",
       "  </thead>\n",
       "  <tbody>\n",
       "    <tr>\n",
       "      <th>0</th>\n",
       "      <td>39409</td>\n",
       "      <td>WHILE THE TREES SLEEP</td>\n",
       "      <td>http://www.kickstarter.com/projects/emiliesaba...</td>\n",
       "      <td>Film &amp; Video</td>\n",
       "      <td>Short Film</td>\n",
       "      <td>Columbia, MO</td>\n",
       "      <td>successful</td>\n",
       "      <td>10500.0</td>\n",
       "      <td>11545.0</td>\n",
       "      <td>1.099524</td>\n",
       "      <td>66</td>\n",
       "      <td>Fri, 19 Aug 2011 19:28:17 -0000</td>\n",
       "      <td>7</td>\n",
       "      <td>$25,$50,$100,$250,$500,$1,000,$2,500</td>\n",
       "      <td>10</td>\n",
       "      <td>2</td>\n",
       "      <td>30.00</td>\n",
       "    </tr>\n",
       "    <tr>\n",
       "      <th>1</th>\n",
       "      <td>126581</td>\n",
       "      <td>Educational Online Trading Card Game</td>\n",
       "      <td>http://www.kickstarter.com/projects/972789543/...</td>\n",
       "      <td>Games</td>\n",
       "      <td>Board &amp; Card Games</td>\n",
       "      <td>Maplewood, NJ</td>\n",
       "      <td>failed</td>\n",
       "      <td>4000.0</td>\n",
       "      <td>20.0</td>\n",
       "      <td>0.005000</td>\n",
       "      <td>2</td>\n",
       "      <td>Mon, 02 Aug 2010 03:59:00 -0000</td>\n",
       "      <td>5</td>\n",
       "      <td>$1,$5,$10,$25,$50</td>\n",
       "      <td>6</td>\n",
       "      <td>0</td>\n",
       "      <td>47.18</td>\n",
       "    </tr>\n",
       "    <tr>\n",
       "      <th>2</th>\n",
       "      <td>138119</td>\n",
       "      <td>STRUM</td>\n",
       "      <td>http://www.kickstarter.com/projects/185476022/...</td>\n",
       "      <td>Film &amp; Video</td>\n",
       "      <td>Animation</td>\n",
       "      <td>Los Angeles, CA</td>\n",
       "      <td>live</td>\n",
       "      <td>20000.0</td>\n",
       "      <td>56.0</td>\n",
       "      <td>0.002800</td>\n",
       "      <td>3</td>\n",
       "      <td>Fri, 08 Jun 2012 00:00:31 -0000</td>\n",
       "      <td>10</td>\n",
       "      <td>$1,$10,$25,$40,$50,$100,$250,$1,000,$1,337,$9,001</td>\n",
       "      <td>1</td>\n",
       "      <td>0</td>\n",
       "      <td>28.00</td>\n",
       "    </tr>\n",
       "    <tr>\n",
       "      <th>3</th>\n",
       "      <td>237090</td>\n",
       "      <td>GETTING OVER - One son's search to finally kno...</td>\n",
       "      <td>http://www.kickstarter.com/projects/charnick/g...</td>\n",
       "      <td>Film &amp; Video</td>\n",
       "      <td>Documentary</td>\n",
       "      <td>Los Angeles, CA</td>\n",
       "      <td>successful</td>\n",
       "      <td>6000.0</td>\n",
       "      <td>6535.0</td>\n",
       "      <td>1.089167</td>\n",
       "      <td>100</td>\n",
       "      <td>Sun, 08 Apr 2012 02:14:00 -0000</td>\n",
       "      <td>13</td>\n",
       "      <td>$1,$10,$25,$30,$50,$75,$85,$100,$110,$250,$500...</td>\n",
       "      <td>4</td>\n",
       "      <td>0</td>\n",
       "      <td>32.22</td>\n",
       "    </tr>\n",
       "    <tr>\n",
       "      <th>4</th>\n",
       "      <td>246101</td>\n",
       "      <td>The Launch of FlyeGrlRoyalty &amp;quot;The New Nam...</td>\n",
       "      <td>http://www.kickstarter.com/projects/flyegrlroy...</td>\n",
       "      <td>Fashion</td>\n",
       "      <td>Fashion</td>\n",
       "      <td>Novi, MI</td>\n",
       "      <td>failed</td>\n",
       "      <td>3500.0</td>\n",
       "      <td>0.0</td>\n",
       "      <td>0.000000</td>\n",
       "      <td>0</td>\n",
       "      <td>Wed, 01 Jun 2011 15:25:39 -0000</td>\n",
       "      <td>6</td>\n",
       "      <td>$10,$25,$50,$100,$150,$250</td>\n",
       "      <td>2</td>\n",
       "      <td>0</td>\n",
       "      <td>30.00</td>\n",
       "    </tr>\n",
       "  </tbody>\n",
       "</table>\n",
       "</div>"
      ],
      "text/plain": [
       "   project id                                               name  \\\n",
       "0       39409                              WHILE THE TREES SLEEP   \n",
       "1      126581               Educational Online Trading Card Game   \n",
       "2      138119                                              STRUM   \n",
       "3      237090  GETTING OVER - One son's search to finally kno...   \n",
       "4      246101  The Launch of FlyeGrlRoyalty &quot;The New Nam...   \n",
       "\n",
       "                                                 url      category  \\\n",
       "0  http://www.kickstarter.com/projects/emiliesaba...  Film & Video   \n",
       "1  http://www.kickstarter.com/projects/972789543/...         Games   \n",
       "2  http://www.kickstarter.com/projects/185476022/...  Film & Video   \n",
       "3  http://www.kickstarter.com/projects/charnick/g...  Film & Video   \n",
       "4  http://www.kickstarter.com/projects/flyegrlroy...       Fashion   \n",
       "\n",
       "          subcategory         location      status     goal  pledged  \\\n",
       "0          Short Film     Columbia, MO  successful  10500.0  11545.0   \n",
       "1  Board & Card Games    Maplewood, NJ      failed   4000.0     20.0   \n",
       "2           Animation  Los Angeles, CA        live  20000.0     56.0   \n",
       "3         Documentary  Los Angeles, CA  successful   6000.0   6535.0   \n",
       "4             Fashion         Novi, MI      failed   3500.0      0.0   \n",
       "\n",
       "   funded percentage  backers                      funded date  levels  \\\n",
       "0           1.099524       66  Fri, 19 Aug 2011 19:28:17 -0000       7   \n",
       "1           0.005000        2  Mon, 02 Aug 2010 03:59:00 -0000       5   \n",
       "2           0.002800        3  Fri, 08 Jun 2012 00:00:31 -0000      10   \n",
       "3           1.089167      100  Sun, 08 Apr 2012 02:14:00 -0000      13   \n",
       "4           0.000000        0  Wed, 01 Jun 2011 15:25:39 -0000       6   \n",
       "\n",
       "                                       reward levels  updates  comments  \\\n",
       "0               $25,$50,$100,$250,$500,$1,000,$2,500       10         2   \n",
       "1                                  $1,$5,$10,$25,$50        6         0   \n",
       "2  $1,$10,$25,$40,$50,$100,$250,$1,000,$1,337,$9,001        1         0   \n",
       "3  $1,$10,$25,$30,$50,$75,$85,$100,$110,$250,$500...        4         0   \n",
       "4                         $10,$25,$50,$100,$150,$250        2         0   \n",
       "\n",
       "   duration  \n",
       "0     30.00  \n",
       "1     47.18  \n",
       "2     28.00  \n",
       "3     32.22  \n",
       "4     30.00  "
      ]
     },
     "execution_count": 4,
     "metadata": {},
     "output_type": "execute_result"
    }
   ],
   "source": [
    "kick.head(5)"
   ]
  },
  {
   "cell_type": "code",
   "execution_count": 5,
   "metadata": {},
   "outputs": [
    {
     "data": {
      "text/plain": [
       "project id              0\n",
       "name                    0\n",
       "url                     0\n",
       "category                0\n",
       "subcategory             0\n",
       "location             1322\n",
       "status                  0\n",
       "goal                    0\n",
       "pledged                12\n",
       "funded percentage       0\n",
       "backers                 0\n",
       "funded date             0\n",
       "levels                  0\n",
       "reward levels          59\n",
       "updates                 0\n",
       "comments                0\n",
       "duration                0\n",
       "dtype: int64"
      ]
     },
     "execution_count": 5,
     "metadata": {},
     "output_type": "execute_result"
    }
   ],
   "source": [
    "#Check for NaNs\n",
    "kick.isnull().sum(axis=0)"
   ]
  },
  {
   "cell_type": "markdown",
   "metadata": {},
   "source": [
    " <font color=red>_We have 1322 NaN locations, 12 NaN pledges and 59 NaN reward levels. These need to be taken care of before we can build a machine learning model_</font>"
   ]
  },
  {
   "cell_type": "code",
   "execution_count": 6,
   "metadata": {},
   "outputs": [
    {
     "data": {
      "text/plain": [
       "project id                                                  1728704935\n",
       "name                                Help RonenV.com Get A New Camera!!\n",
       "url                  http://www.kickstarter.com/projects/ronen/help...\n",
       "category                                                   Photography\n",
       "subcategory                                                Photography\n",
       "location                                                           NaN\n",
       "status                                                      successful\n",
       "goal                                                               500\n",
       "pledged                                                            500\n",
       "funded percentage                                                    1\n",
       "backers                                                              7\n",
       "funded date                            Tue, 01 Dec 2009 23:05:00 -0000\n",
       "levels                                                               2\n",
       "reward levels                                                 $20,$350\n",
       "updates                                                              2\n",
       "comments                                                             0\n",
       "duration                                                             1\n",
       "Name: 36775, dtype: object"
      ]
     },
     "execution_count": 6,
     "metadata": {},
     "output_type": "execute_result"
    }
   ],
   "source": [
    "#Interesting facts about the data\n",
    "# Successful campaign with shortest duration\n",
    "kick[kick.status=='successful'].sort_values(by='duration', ascending=True).iloc[0,:]"
   ]
  },
  {
   "cell_type": "markdown",
   "metadata": {},
   "source": [
    "<font color=blue>Shortest successful campaign was for one day to raise $500 for a camera</font>"
   ]
  },
  {
   "cell_type": "code",
   "execution_count": 7,
   "metadata": {},
   "outputs": [
    {
     "data": {
      "text/plain": [
       "project id                                                   144788399\n",
       "name                 Traditions Build Winners as the Snipe Class tu...\n",
       "url                  http://www.kickstarter.com/projects/1719722064...\n",
       "category                                              Film &amp; Video\n",
       "subcategory                                                Documentary\n",
       "location                                             San Francisco, CA\n",
       "status                                                      successful\n",
       "goal                                                              7500\n",
       "pledged                                                           7625\n",
       "funded percentage                                              1.01667\n",
       "backers                                                             56\n",
       "funded date                            Thu, 31 Mar 2011 21:22:08 -0000\n",
       "levels                                                               5\n",
       "reward levels                                 $25,$75,$125,$250,$2,500\n",
       "updates                                                              3\n",
       "comments                                                             1\n",
       "duration                                                         91.96\n",
       "Name: 3068, dtype: object"
      ]
     },
     "execution_count": 7,
     "metadata": {},
     "output_type": "execute_result"
    }
   ],
   "source": [
    "# Successful campaign with longest duration\n",
    "kick[kick.status=='successful'].sort_values(by='duration', ascending=False).iloc[0,:]"
   ]
  },
  {
   "cell_type": "markdown",
   "metadata": {},
   "source": [
    "<font color=blue>Longest successful campaign was for 92 days to raise $7500 for a documentary</font>"
   ]
  },
  {
   "cell_type": "code",
   "execution_count": 8,
   "metadata": {},
   "outputs": [
    {
     "data": {
      "text/plain": [
       "project id                                                  2000827215\n",
       "name                                                       Wasteland 2\n",
       "url                  http://www.kickstarter.com/projects/inxile/was...\n",
       "category                                                         Games\n",
       "subcategory                                                Video Games\n",
       "location                                             Newport Beach, CA\n",
       "status                                                      successful\n",
       "goal                                                            900000\n",
       "pledged                                                    2.93325e+06\n",
       "funded percentage                                              3.25917\n",
       "backers                                                          61290\n",
       "funded date                            Tue, 17 Apr 2012 12:05:42 -0000\n",
       "levels                                                              15\n",
       "reward levels        $15,$30,$50,$55,$75,$100,$150,$150,$250,$500,$...\n",
       "updates                                                             16\n",
       "comments                                                         13133\n",
       "duration                                                            35\n",
       "Name: 42674, dtype: object"
      ]
     },
     "execution_count": 8,
     "metadata": {},
     "output_type": "execute_result"
    }
   ],
   "source": [
    "#Successful campaign with highest goal amount\n",
    "kick[kick.status=='successful'].sort_values(by='goal', ascending=False).iloc[0,:]"
   ]
  },
  {
   "cell_type": "markdown",
   "metadata": {},
   "source": [
    "<font color=blue>Highest goal amount for a successful campaign was 900K USD and it raised nearly 3 million dollars by 61K backers in merely 35 days</font>"
   ]
  },
  {
   "cell_type": "code",
   "execution_count": 9,
   "metadata": {},
   "outputs": [
    {
     "data": {
      "text/plain": [
       "project id                                                   506924864\n",
       "name                      Pebble: E-Paper Watch for iPhone and Android\n",
       "url                  http://www.kickstarter.com/projects/597507018/...\n",
       "category                                                        Design\n",
       "subcategory                                             Product Design\n",
       "location                                                 Palo Alto, CA\n",
       "status                                                      successful\n",
       "goal                                                            100000\n",
       "pledged                                                    1.02668e+07\n",
       "funded percentage                                              102.668\n",
       "backers                                                          68929\n",
       "funded date                            Sat, 19 May 2012 03:00:00 -0000\n",
       "levels                                                              11\n",
       "reward levels        $1,$99,$115,$125,$220,$235,$240,$550,$1,000,$1...\n",
       "updates                                                             13\n",
       "comments                                                          7013\n",
       "duration                                                         37.92\n",
       "Name: 10710, dtype: object"
      ]
     },
     "execution_count": 9,
     "metadata": {},
     "output_type": "execute_result"
    }
   ],
   "source": [
    "#Success campaign with highest pledge amount\n",
    "kick.sort_values(by='pledged', ascending=False).iloc[0,:]"
   ]
  },
  {
   "cell_type": "markdown",
   "metadata": {},
   "source": [
    "<font color=blue>Pebble-E Watch for Android and Iphone raised 10 million dollars, 100 times their goal amount by 68K backers in 38 days</font>"
   ]
  },
  {
   "cell_type": "code",
   "execution_count": 10,
   "metadata": {},
   "outputs": [
    {
     "data": {
      "text/plain": [
       "11942.709521509238"
      ]
     },
     "execution_count": 10,
     "metadata": {},
     "output_type": "execute_result"
    }
   ],
   "source": [
    "#Mean Goal\n",
    "kick.goal.mean(skipna=True)"
   ]
  },
  {
   "cell_type": "code",
   "execution_count": 11,
   "metadata": {},
   "outputs": [
    {
     "data": {
      "text/plain": [
       "count    4.595700e+04\n",
       "mean     1.194271e+04\n",
       "std      1.887583e+05\n",
       "min      1.000000e-02\n",
       "25%      1.800000e+03\n",
       "50%      4.000000e+03\n",
       "75%      9.862000e+03\n",
       "max      2.147484e+07\n",
       "Name: goal, dtype: float64"
      ]
     },
     "execution_count": 11,
     "metadata": {},
     "output_type": "execute_result"
    }
   ],
   "source": [
    "kick.goal.describe()"
   ]
  },
  {
   "cell_type": "markdown",
   "metadata": {},
   "source": [
    "<font color=blue>\n",
    " - 75% of the campaigns have a goal of less than 10,000 dollars <br>\n",
    "</font>"
   ]
  },
  {
   "cell_type": "code",
   "execution_count": 12,
   "metadata": {},
   "outputs": [
    {
     "data": {
      "text/plain": [
       "4980.749678963979"
      ]
     },
     "execution_count": 12,
     "metadata": {},
     "output_type": "execute_result"
    }
   ],
   "source": [
    "#Mean pledge \n",
    "kick.pledged.mean(skipna=True)"
   ]
  },
  {
   "cell_type": "code",
   "execution_count": 13,
   "metadata": {},
   "outputs": [
    {
     "data": {
      "text/plain": [
       "count    4.594500e+04\n",
       "mean     4.980750e+03\n",
       "std      5.674162e+04\n",
       "min      0.000000e+00\n",
       "25%      1.960000e+02\n",
       "50%      1.310000e+03\n",
       "75%      4.165000e+03\n",
       "max      1.026684e+07\n",
       "Name: pledged, dtype: float64"
      ]
     },
     "execution_count": 13,
     "metadata": {},
     "output_type": "execute_result"
    }
   ],
   "source": [
    "kick.pledged.describe()"
   ]
  },
  {
   "cell_type": "markdown",
   "metadata": {},
   "source": [
    "<font color=blue>\n",
    " - There are outliers here as well <br>\n",
    " - 75% of the campaigns have pledged amount less than 4200 <br>\n",
    " - We have some pledges in millions <br>\n",
    "</font>    "
   ]
  },
  {
   "cell_type": "code",
   "execution_count": 14,
   "metadata": {},
   "outputs": [
    {
     "name": "stdout",
     "output_type": "stream",
     "text": [
      "<class 'pandas.core.frame.DataFrame'>\n",
      "RangeIndex: 45957 entries, 0 to 45956\n",
      "Data columns (total 17 columns):\n",
      "project id           45957 non-null int64\n",
      "name                 45957 non-null object\n",
      "url                  45957 non-null object\n",
      "category             45957 non-null object\n",
      "subcategory          45957 non-null object\n",
      "location             44635 non-null object\n",
      "status               45957 non-null object\n",
      "goal                 45957 non-null float64\n",
      "pledged              45945 non-null float64\n",
      "funded percentage    45957 non-null float64\n",
      "backers              45957 non-null int64\n",
      "funded date          45957 non-null object\n",
      "levels               45957 non-null int64\n",
      "reward levels        45898 non-null object\n",
      "updates              45957 non-null int64\n",
      "comments             45957 non-null int64\n",
      "duration             45957 non-null float64\n",
      "dtypes: float64(4), int64(5), object(8)\n",
      "memory usage: 6.0+ MB\n"
     ]
    }
   ],
   "source": [
    "kick.info()"
   ]
  },
  {
   "cell_type": "code",
   "execution_count": 15,
   "metadata": {},
   "outputs": [
    {
     "data": {
      "image/png": "[encoded data removed]",
      "text/plain": [
       "<Figure size 432x288 with 1 Axes>"
      ]
     },
     "metadata": {
      "needs_background": "light"
     },
     "output_type": "display_data"
    }
   ],
   "source": [
    "#Plotting distribution of number of backers\n",
    "kick.backers.hist()\n",
    "plt.show()"
   ]
  },
  {
   "cell_type": "code",
   "execution_count": 16,
   "metadata": {},
   "outputs": [
    {
     "data": {
      "image/png": "[encoded data removed]",
      "text/plain": [
       "<Figure size 432x288 with 1 Axes>"
      ]
     },
     "metadata": {
      "needs_background": "light"
     },
     "output_type": "display_data"
    }
   ],
   "source": [
    "# It appears we have large number of projects with small number of backers and have some outliers with pretty high number of backers\n",
    "kick.boxplot('backers')\n",
    "plt.show()"
   ]
  },
  {
   "cell_type": "code",
   "execution_count": 17,
   "metadata": {},
   "outputs": [
    {
     "data": {
      "text/plain": [
       "count    45957.000000\n",
       "mean        69.973192\n",
       "std        688.628479\n",
       "min          0.000000\n",
       "25%          5.000000\n",
       "50%         23.000000\n",
       "75%         59.000000\n",
       "max      87142.000000\n",
       "Name: backers, dtype: float64"
      ]
     },
     "execution_count": 17,
     "metadata": {},
     "output_type": "execute_result"
    }
   ],
   "source": [
    "kick.backers.describe()"
   ]
  },
  {
   "cell_type": "markdown",
   "metadata": {},
   "source": [
    "<font color=blue>\n",
    " - 75% of the campaigns have 59 or less number of backers <br>\n",
    " - We also have a campaign with 87,000 plus backers <br>\n",
    " - Here the Inter Quartile Range for number of backers is 59 - 5 = 54 <br>\n",
    " - Using 1.5*IQR rules for outliers, any project with more than 1.5*54=81 backers is an outlier <br>\n",
    "</font>"
   ]
  },
  {
   "cell_type": "code",
   "execution_count": 18,
   "metadata": {},
   "outputs": [
    {
     "data": {
      "text/plain": [
       "87.47397431084505"
      ]
     },
     "execution_count": 18,
     "metadata": {},
     "output_type": "execute_result"
    }
   ],
   "source": [
    "#Calculating Skew of number of backers\n",
    "kick.backers.skew()"
   ]
  },
  {
   "cell_type": "code",
   "execution_count": 19,
   "metadata": {},
   "outputs": [
    {
     "data": {
      "image/png": "[encoded data removed]",
      "text/plain": [
       "<Figure size 432x288 with 1 Axes>"
      ]
     },
     "metadata": {
      "needs_background": "light"
     },
     "output_type": "display_data"
    }
   ],
   "source": [
    "kick.duration.hist(bins=30)\n",
    "plt.show()"
   ]
  },
  {
   "cell_type": "markdown",
   "metadata": {},
   "source": [
    "<font color=blue>Duration variable is not normally distributed</font>"
   ]
  },
  {
   "cell_type": "code",
   "execution_count": 20,
   "metadata": {},
   "outputs": [],
   "source": [
    "# Convert features to appropriate types\n",
    "kick.status = kick.status.astype('category')\n",
    "kick.location = kick.location.astype('category')\n",
    "kick.category = kick.category.astype('category')\n",
    "kick.subcategory = kick.subcategory.astype('category')\n",
    "kick['funded date'] = pd.to_datetime(kick['funded date'])"
   ]
  },
  {
   "cell_type": "code",
   "execution_count": 21,
   "metadata": {},
   "outputs": [
    {
     "data": {
      "text/plain": [
       "count    22969.000000\n",
       "mean        37.960475\n",
       "std         16.651234\n",
       "min          1.000000\n",
       "25%         30.000000\n",
       "50%         31.000000\n",
       "75%         45.000000\n",
       "max         91.960000\n",
       "Name: duration, dtype: float64"
      ]
     },
     "execution_count": 21,
     "metadata": {},
     "output_type": "execute_result"
    }
   ],
   "source": [
    "kick[kick.status=='successful'].duration.describe()"
   ]
  },
  {
   "cell_type": "code",
   "execution_count": 22,
   "metadata": {},
   "outputs": [
    {
     "data": {
      "image/png": "[encoded data removed]",
      "text/plain": [
       "<Figure size 432x288 with 1 Axes>"
      ]
     },
     "metadata": {
      "needs_background": "light"
     },
     "output_type": "display_data"
    }
   ],
   "source": [
    "sns.boxplot(x='status', y='duration', data=kick)\n",
    "plt.xlabel('')\n",
    "plt.ylabel('Duration')\n",
    "plt.savefig('duration_status.png')"
   ]
  },
  {
   "cell_type": "markdown",
   "metadata": {},
   "source": [
    "<font color=blue>\n",
    " - The box-plots between campaign duration and stasues show that on average successful campaigns have lower duration than failed ones <br>\n",
    " - Median duration is 31 days for successful campaigns\n",
    "</font>"
   ]
  },
  {
   "cell_type": "code",
   "execution_count": 23,
   "metadata": {},
   "outputs": [
    {
     "data": {
      "text/plain": [
       "['Film & Video',\n",
       " 'Games',\n",
       " 'Fashion',\n",
       " 'Music',\n",
       " 'Art',\n",
       " 'Technology',\n",
       " 'Dance',\n",
       " 'Publishing',\n",
       " 'Theater',\n",
       " 'Comics',\n",
       " 'Design',\n",
       " 'Photography',\n",
       " 'Food',\n",
       " 'Film &amp; Video']"
      ]
     },
     "execution_count": 23,
     "metadata": {},
     "output_type": "execute_result"
    }
   ],
   "source": [
    "list(kick.category.unique())"
   ]
  },
  {
   "cell_type": "markdown",
   "metadata": {},
   "source": [
    "<font color=blue>What is the difference between \"Film & Video\" and \"Film &amp; Video\" ???</font>"
   ]
  },
  {
   "cell_type": "code",
   "execution_count": 24,
   "metadata": {},
   "outputs": [
    {
     "data": {
      "text/html": [
       "<div>\n",
       "<style scoped>\n",
       "    .dataframe tbody tr th:only-of-type {\n",
       "        vertical-align: middle;\n",
       "    }\n",
       "\n",
       "    .dataframe tbody tr th {\n",
       "        vertical-align: top;\n",
       "    }\n",
       "\n",
       "    .dataframe thead th {\n",
       "        text-align: right;\n",
       "    }\n",
       "</style>\n",
       "<table border=\"1\" class=\"dataframe\">\n",
       "  <thead>\n",
       "    <tr style=\"text-align: right;\">\n",
       "      <th></th>\n",
       "      <th>project id</th>\n",
       "      <th>name</th>\n",
       "      <th>url</th>\n",
       "      <th>category</th>\n",
       "      <th>subcategory</th>\n",
       "      <th>location</th>\n",
       "      <th>status</th>\n",
       "      <th>goal</th>\n",
       "      <th>pledged</th>\n",
       "      <th>funded percentage</th>\n",
       "      <th>backers</th>\n",
       "      <th>funded date</th>\n",
       "      <th>levels</th>\n",
       "      <th>reward levels</th>\n",
       "      <th>updates</th>\n",
       "      <th>comments</th>\n",
       "      <th>duration</th>\n",
       "    </tr>\n",
       "  </thead>\n",
       "  <tbody>\n",
       "    <tr>\n",
       "      <th>1548</th>\n",
       "      <td>70883741</td>\n",
       "      <td>The Zuma Dogg Show (&amp;quot;Comedy-genius, Brain...</td>\n",
       "      <td>http://www.kickstarter.com/projects/1137848748...</td>\n",
       "      <td>Film &amp;amp; Video</td>\n",
       "      <td>Webseries</td>\n",
       "      <td>Los Angeles, CA</td>\n",
       "      <td>failed</td>\n",
       "      <td>10000.0</td>\n",
       "      <td>0.0</td>\n",
       "      <td>0.0000</td>\n",
       "      <td>0</td>\n",
       "      <td>2011-06-17 23:36:50+00:00</td>\n",
       "      <td>7</td>\n",
       "      <td>$10,$25,$50,$100,$250,$500,$1,000</td>\n",
       "      <td>0</td>\n",
       "      <td>0</td>\n",
       "      <td>21.00</td>\n",
       "    </tr>\n",
       "    <tr>\n",
       "      <th>1551</th>\n",
       "      <td>71006313</td>\n",
       "      <td>Butterflies Wake</td>\n",
       "      <td>http://www.kickstarter.com/projects/butterflie...</td>\n",
       "      <td>Film &amp;amp; Video</td>\n",
       "      <td>Short Film</td>\n",
       "      <td>Charleston, SC</td>\n",
       "      <td>successful</td>\n",
       "      <td>2000.0</td>\n",
       "      <td>2000.0</td>\n",
       "      <td>1.0000</td>\n",
       "      <td>40</td>\n",
       "      <td>2011-01-03 02:41:19+00:00</td>\n",
       "      <td>2</td>\n",
       "      <td>$25,$25</td>\n",
       "      <td>5</td>\n",
       "      <td>2</td>\n",
       "      <td>60.04</td>\n",
       "    </tr>\n",
       "    <tr>\n",
       "      <th>1556</th>\n",
       "      <td>71503212</td>\n",
       "      <td>Your Chance To Be A Part Of An Indie Horror Film</td>\n",
       "      <td>http://www.kickstarter.com/projects/218163736/...</td>\n",
       "      <td>Film &amp;amp; Video</td>\n",
       "      <td>Film &amp;amp; Video</td>\n",
       "      <td>Dayton, OH</td>\n",
       "      <td>successful</td>\n",
       "      <td>200.0</td>\n",
       "      <td>276.0</td>\n",
       "      <td>1.3800</td>\n",
       "      <td>12</td>\n",
       "      <td>2011-05-12 21:55:23+00:00</td>\n",
       "      <td>7</td>\n",
       "      <td>$1,$5,$20,$50,$75,$100,$150</td>\n",
       "      <td>0</td>\n",
       "      <td>4</td>\n",
       "      <td>40.00</td>\n",
       "    </tr>\n",
       "    <tr>\n",
       "      <th>1561</th>\n",
       "      <td>71715000</td>\n",
       "      <td>Comedy Movie &amp;quot;Come Back and See Us&amp;quot; ...</td>\n",
       "      <td>http://www.kickstarter.com/projects/115350971/...</td>\n",
       "      <td>Film &amp;amp; Video</td>\n",
       "      <td>Film &amp;amp; Video</td>\n",
       "      <td>San Antonio, TX</td>\n",
       "      <td>failed</td>\n",
       "      <td>20000.0</td>\n",
       "      <td>0.0</td>\n",
       "      <td>0.0000</td>\n",
       "      <td>0</td>\n",
       "      <td>2012-02-06 17:28:16+00:00</td>\n",
       "      <td>11</td>\n",
       "      <td>$5,$10,$25,$50,$100,$250,$500,$1,000,$2,500,$5...</td>\n",
       "      <td>0</td>\n",
       "      <td>0</td>\n",
       "      <td>46.00</td>\n",
       "    </tr>\n",
       "    <tr>\n",
       "      <th>1577</th>\n",
       "      <td>72199235</td>\n",
       "      <td>Help bring James Joyce to the big screen</td>\n",
       "      <td>http://www.kickstarter.com/projects/1569435839...</td>\n",
       "      <td>Film &amp;amp; Video</td>\n",
       "      <td>Narrative Film</td>\n",
       "      <td>Paris, France</td>\n",
       "      <td>failed</td>\n",
       "      <td>20000.0</td>\n",
       "      <td>788.0</td>\n",
       "      <td>0.0394</td>\n",
       "      <td>18</td>\n",
       "      <td>2011-08-16 03:12:19+00:00</td>\n",
       "      <td>10</td>\n",
       "      <td>$5,$10,$25,$50,$100,$250,$500,$1,000,$2,500,$5...</td>\n",
       "      <td>2</td>\n",
       "      <td>0</td>\n",
       "      <td>60.00</td>\n",
       "    </tr>\n",
       "  </tbody>\n",
       "</table>\n",
       "</div>"
      ],
      "text/plain": [
       "      project id                                               name  \\\n",
       "1548    70883741  The Zuma Dogg Show (&quot;Comedy-genius, Brain...   \n",
       "1551    71006313                                   Butterflies Wake   \n",
       "1556    71503212   Your Chance To Be A Part Of An Indie Horror Film   \n",
       "1561    71715000  Comedy Movie &quot;Come Back and See Us&quot; ...   \n",
       "1577    72199235           Help bring James Joyce to the big screen   \n",
       "\n",
       "                                                    url          category  \\\n",
       "1548  http://www.kickstarter.com/projects/1137848748...  Film &amp; Video   \n",
       "1551  http://www.kickstarter.com/projects/butterflie...  Film &amp; Video   \n",
       "1556  http://www.kickstarter.com/projects/218163736/...  Film &amp; Video   \n",
       "1561  http://www.kickstarter.com/projects/115350971/...  Film &amp; Video   \n",
       "1577  http://www.kickstarter.com/projects/1569435839...  Film &amp; Video   \n",
       "\n",
       "           subcategory         location      status     goal  pledged  \\\n",
       "1548         Webseries  Los Angeles, CA      failed  10000.0      0.0   \n",
       "1551        Short Film   Charleston, SC  successful   2000.0   2000.0   \n",
       "1556  Film &amp; Video       Dayton, OH  successful    200.0    276.0   \n",
       "1561  Film &amp; Video  San Antonio, TX      failed  20000.0      0.0   \n",
       "1577    Narrative Film    Paris, France      failed  20000.0    788.0   \n",
       "\n",
       "      funded percentage  backers               funded date  levels  \\\n",
       "1548             0.0000        0 2011-06-17 23:36:50+00:00       7   \n",
       "1551             1.0000       40 2011-01-03 02:41:19+00:00       2   \n",
       "1556             1.3800       12 2011-05-12 21:55:23+00:00       7   \n",
       "1561             0.0000        0 2012-02-06 17:28:16+00:00      11   \n",
       "1577             0.0394       18 2011-08-16 03:12:19+00:00      10   \n",
       "\n",
       "                                          reward levels  updates  comments  \\\n",
       "1548                  $10,$25,$50,$100,$250,$500,$1,000        0         0   \n",
       "1551                                            $25,$25        5         2   \n",
       "1556                        $1,$5,$20,$50,$75,$100,$150        0         4   \n",
       "1561  $5,$10,$25,$50,$100,$250,$500,$1,000,$2,500,$5...        0         0   \n",
       "1577  $5,$10,$25,$50,$100,$250,$500,$1,000,$2,500,$5...        2         0   \n",
       "\n",
       "      duration  \n",
       "1548     21.00  \n",
       "1551     60.04  \n",
       "1556     40.00  \n",
       "1561     46.00  \n",
       "1577     60.00  "
      ]
     },
     "execution_count": 24,
     "metadata": {},
     "output_type": "execute_result"
    }
   ],
   "source": [
    "kick[kick.category == \"Film &amp; Video\"].head()"
   ]
  },
  {
   "cell_type": "code",
   "execution_count": 25,
   "metadata": {},
   "outputs": [
    {
     "data": {
      "text/html": [
       "<div>\n",
       "<style scoped>\n",
       "    .dataframe tbody tr th:only-of-type {\n",
       "        vertical-align: middle;\n",
       "    }\n",
       "\n",
       "    .dataframe tbody tr th {\n",
       "        vertical-align: top;\n",
       "    }\n",
       "\n",
       "    .dataframe thead th {\n",
       "        text-align: right;\n",
       "    }\n",
       "</style>\n",
       "<table border=\"1\" class=\"dataframe\">\n",
       "  <thead>\n",
       "    <tr style=\"text-align: right;\">\n",
       "      <th></th>\n",
       "      <th>project id</th>\n",
       "      <th>name</th>\n",
       "      <th>url</th>\n",
       "      <th>category</th>\n",
       "      <th>subcategory</th>\n",
       "      <th>location</th>\n",
       "      <th>status</th>\n",
       "      <th>goal</th>\n",
       "      <th>pledged</th>\n",
       "      <th>funded percentage</th>\n",
       "      <th>backers</th>\n",
       "      <th>funded date</th>\n",
       "      <th>levels</th>\n",
       "      <th>reward levels</th>\n",
       "      <th>updates</th>\n",
       "      <th>comments</th>\n",
       "      <th>duration</th>\n",
       "    </tr>\n",
       "  </thead>\n",
       "  <tbody>\n",
       "    <tr>\n",
       "      <th>0</th>\n",
       "      <td>39409</td>\n",
       "      <td>WHILE THE TREES SLEEP</td>\n",
       "      <td>http://www.kickstarter.com/projects/emiliesaba...</td>\n",
       "      <td>Film &amp; Video</td>\n",
       "      <td>Short Film</td>\n",
       "      <td>Columbia, MO</td>\n",
       "      <td>successful</td>\n",
       "      <td>10500.0</td>\n",
       "      <td>11545.0</td>\n",
       "      <td>1.099524</td>\n",
       "      <td>66</td>\n",
       "      <td>2011-08-19 19:28:17+00:00</td>\n",
       "      <td>7</td>\n",
       "      <td>$25,$50,$100,$250,$500,$1,000,$2,500</td>\n",
       "      <td>10</td>\n",
       "      <td>2</td>\n",
       "      <td>30.00</td>\n",
       "    </tr>\n",
       "    <tr>\n",
       "      <th>2</th>\n",
       "      <td>138119</td>\n",
       "      <td>STRUM</td>\n",
       "      <td>http://www.kickstarter.com/projects/185476022/...</td>\n",
       "      <td>Film &amp; Video</td>\n",
       "      <td>Animation</td>\n",
       "      <td>Los Angeles, CA</td>\n",
       "      <td>live</td>\n",
       "      <td>20000.0</td>\n",
       "      <td>56.0</td>\n",
       "      <td>0.002800</td>\n",
       "      <td>3</td>\n",
       "      <td>2012-06-08 00:00:31+00:00</td>\n",
       "      <td>10</td>\n",
       "      <td>$1,$10,$25,$40,$50,$100,$250,$1,000,$1,337,$9,001</td>\n",
       "      <td>1</td>\n",
       "      <td>0</td>\n",
       "      <td>28.00</td>\n",
       "    </tr>\n",
       "    <tr>\n",
       "      <th>3</th>\n",
       "      <td>237090</td>\n",
       "      <td>GETTING OVER - One son's search to finally kno...</td>\n",
       "      <td>http://www.kickstarter.com/projects/charnick/g...</td>\n",
       "      <td>Film &amp; Video</td>\n",
       "      <td>Documentary</td>\n",
       "      <td>Los Angeles, CA</td>\n",
       "      <td>successful</td>\n",
       "      <td>6000.0</td>\n",
       "      <td>6535.0</td>\n",
       "      <td>1.089167</td>\n",
       "      <td>100</td>\n",
       "      <td>2012-04-08 02:14:00+00:00</td>\n",
       "      <td>13</td>\n",
       "      <td>$1,$10,$25,$30,$50,$75,$85,$100,$110,$250,$500...</td>\n",
       "      <td>4</td>\n",
       "      <td>0</td>\n",
       "      <td>32.22</td>\n",
       "    </tr>\n",
       "    <tr>\n",
       "      <th>5</th>\n",
       "      <td>316217</td>\n",
       "      <td>Dinner Party - a short film about friendship.....</td>\n",
       "      <td>http://www.kickstarter.com/projects/249354515/...</td>\n",
       "      <td>Film &amp; Video</td>\n",
       "      <td>Short Film</td>\n",
       "      <td>Portland, OR</td>\n",
       "      <td>successful</td>\n",
       "      <td>3500.0</td>\n",
       "      <td>3582.0</td>\n",
       "      <td>1.023331</td>\n",
       "      <td>39</td>\n",
       "      <td>2011-06-22 13:33:00+00:00</td>\n",
       "      <td>7</td>\n",
       "      <td>$5,$25,$50,$100,$250,$500,$1,000</td>\n",
       "      <td>8</td>\n",
       "      <td>0</td>\n",
       "      <td>21.43</td>\n",
       "    </tr>\n",
       "    <tr>\n",
       "      <th>6</th>\n",
       "      <td>325034</td>\n",
       "      <td>Mezzo</td>\n",
       "      <td>http://www.kickstarter.com/projects/geoffsaysh...</td>\n",
       "      <td>Film &amp; Video</td>\n",
       "      <td>Short Film</td>\n",
       "      <td>Collegedale, TN</td>\n",
       "      <td>failed</td>\n",
       "      <td>1000.0</td>\n",
       "      <td>280.0</td>\n",
       "      <td>0.280000</td>\n",
       "      <td>8</td>\n",
       "      <td>2012-02-18 02:17:08+00:00</td>\n",
       "      <td>5</td>\n",
       "      <td>$5,$10,$25,$50,$100</td>\n",
       "      <td>0</td>\n",
       "      <td>0</td>\n",
       "      <td>30.00</td>\n",
       "    </tr>\n",
       "  </tbody>\n",
       "</table>\n",
       "</div>"
      ],
      "text/plain": [
       "   project id                                               name  \\\n",
       "0       39409                              WHILE THE TREES SLEEP   \n",
       "2      138119                                              STRUM   \n",
       "3      237090  GETTING OVER - One son's search to finally kno...   \n",
       "5      316217  Dinner Party - a short film about friendship.....   \n",
       "6      325034                                              Mezzo   \n",
       "\n",
       "                                                 url      category  \\\n",
       "0  http://www.kickstarter.com/projects/emiliesaba...  Film & Video   \n",
       "2  http://www.kickstarter.com/projects/185476022/...  Film & Video   \n",
       "3  http://www.kickstarter.com/projects/charnick/g...  Film & Video   \n",
       "5  http://www.kickstarter.com/projects/249354515/...  Film & Video   \n",
       "6  http://www.kickstarter.com/projects/geoffsaysh...  Film & Video   \n",
       "\n",
       "   subcategory         location      status     goal  pledged  \\\n",
       "0   Short Film     Columbia, MO  successful  10500.0  11545.0   \n",
       "2    Animation  Los Angeles, CA        live  20000.0     56.0   \n",
       "3  Documentary  Los Angeles, CA  successful   6000.0   6535.0   \n",
       "5   Short Film     Portland, OR  successful   3500.0   3582.0   \n",
       "6   Short Film  Collegedale, TN      failed   1000.0    280.0   \n",
       "\n",
       "   funded percentage  backers               funded date  levels  \\\n",
       "0           1.099524       66 2011-08-19 19:28:17+00:00       7   \n",
       "2           0.002800        3 2012-06-08 00:00:31+00:00      10   \n",
       "3           1.089167      100 2012-04-08 02:14:00+00:00      13   \n",
       "5           1.023331       39 2011-06-22 13:33:00+00:00       7   \n",
       "6           0.280000        8 2012-02-18 02:17:08+00:00       5   \n",
       "\n",
       "                                       reward levels  updates  comments  \\\n",
       "0               $25,$50,$100,$250,$500,$1,000,$2,500       10         2   \n",
       "2  $1,$10,$25,$40,$50,$100,$250,$1,000,$1,337,$9,001        1         0   \n",
       "3  $1,$10,$25,$30,$50,$75,$85,$100,$110,$250,$500...        4         0   \n",
       "5                   $5,$25,$50,$100,$250,$500,$1,000        8         0   \n",
       "6                                $5,$10,$25,$50,$100        0         0   \n",
       "\n",
       "   duration  \n",
       "0     30.00  \n",
       "2     28.00  \n",
       "3     32.22  \n",
       "5     21.43  \n",
       "6     30.00  "
      ]
     },
     "execution_count": 25,
     "metadata": {},
     "output_type": "execute_result"
    }
   ],
   "source": [
    "kick[kick.category == \"Film & Video\"].head()"
   ]
  },
  {
   "cell_type": "markdown",
   "metadata": {},
   "source": [
    "<font color=blue>It appears to be a typing mistake. Assuming they are same. Update \"Film &amp; Video\" to \"Film & Video\"</font>"
   ]
  },
  {
   "cell_type": "code",
   "execution_count": 26,
   "metadata": {},
   "outputs": [],
   "source": [
    "#Update \"Film &amp; Video\" to \"Film & Video\"\n",
    "kick.loc[kick.category==\"Film &amp; Video\",'category'] = \"Film & Video\""
   ]
  },
  {
   "cell_type": "code",
   "execution_count": 50,
   "metadata": {},
   "outputs": [
    {
     "data": {
      "text/plain": [
       "<matplotlib.axes._subplots.AxesSubplot at 0x7f3bfad784d0>"
      ]
     },
     "execution_count": 50,
     "metadata": {},
     "output_type": "execute_result"
    },
    {
     "data": {
      "image/png": "[encoded data removed]",
      "text/plain": [
       "<Figure size 432x288 with 1 Axes>"
      ]
     },
     "metadata": {
      "needs_background": "light"
     },
     "output_type": "display_data"
    }
   ],
   "source": [
    "kick.groupby(['category', 'status']).size().unstack().fillna(0).plot(kind='bar', stacked=True)"
   ]
  },
  {
   "cell_type": "markdown",
   "metadata": {},
   "source": [
    "<font color=blue>\n",
    "Here we see that <br>\n",
    " - Music and Film & Video projects had high number of successes but they also had high number of failures <br>\n",
    " - Number of projects is also high for these categories <br>\n",
    " - We need to look at percentage of successful and failed projects in each category to get a better picture <br>\n",
    "</font>    "
   ]
  },
  {
   "cell_type": "code",
   "execution_count": 28,
   "metadata": {},
   "outputs": [],
   "source": [
    "# Get percentage of projects by category and status\n",
    "category_status = kick.groupby(['category','status']).size().unstack().fillna(0)\n",
    "category_status.loc[:,'canceled':'suspended'] = category_status.loc[:,'canceled':'suspended'].div(category_status.sum(axis=1), axis=0)*100\n",
    "category_status = np.round(category_status,2)"
   ]
  },
  {
   "cell_type": "code",
   "execution_count": 29,
   "metadata": {},
   "outputs": [
    {
     "data": {
      "image/png": "[encoded data removed]",
      "text/plain": [
       "<Figure size 432x288 with 1 Axes>"
      ]
     },
     "metadata": {
      "needs_background": "light"
     },
     "output_type": "display_data"
    }
   ],
   "source": [
    "# Plot a stacked bar chart\n",
    "category_status.plot(kind='bar', stacked=True)\n",
    "plt.ylabel(\"Percentage of Projects\")\n",
    "plt.xlabel('')\n",
    "plt.legend(bbox_to_anchor=(1.30,1), loc='upper right')\n",
    "plt.show()"
   ]
  },
  {
   "cell_type": "markdown",
   "metadata": {},
   "source": [
    "<font color=blue>\n",
    " - Seventy percent of the campaigns in Dance category were successful <br>\n",
    " - Sixty percent of the campaigns in Fashion category failed <br>\n",
    " - Plot suggests that a campaign in Art, Dance, Music and Theater categories have higher chances of being successful than the rest <br>\n",
    "</font>"
   ]
  },
  {
   "cell_type": "code",
   "execution_count": 30,
   "metadata": {},
   "outputs": [
    {
     "data": {
      "text/plain": [
       "count    4.595700e+04\n",
       "mean     1.194271e+04\n",
       "std      1.887583e+05\n",
       "min      1.000000e-02\n",
       "25%      1.800000e+03\n",
       "50%      4.000000e+03\n",
       "75%      9.862000e+03\n",
       "max      2.147484e+07\n",
       "Name: goal, dtype: float64"
      ]
     },
     "execution_count": 30,
     "metadata": {},
     "output_type": "execute_result"
    }
   ],
   "source": [
    "# Explore goal\n",
    "kick.goal.describe()"
   ]
  },
  {
   "cell_type": "markdown",
   "metadata": {},
   "source": [
    "<font color=blue>There is a large variation in pledge goal. It goes from a penny to millions of dollars. However, majority of the projects have their goal in thousands with median around 4,000 </blue>"
   ]
  },
  {
   "cell_type": "code",
   "execution_count": 31,
   "metadata": {},
   "outputs": [
    {
     "data": {
      "text/plain": [
       "<matplotlib.axes._subplots.AxesSubplot at 0x7f3bfa0fbb50>"
      ]
     },
     "execution_count": 31,
     "metadata": {},
     "output_type": "execute_result"
    },
    {
     "data": {
      "image/png": "[encoded data removed]",
      "text/plain": [
       "<Figure size 432x288 with 1 Axes>"
      ]
     },
     "metadata": {
      "needs_background": "light"
     },
     "output_type": "display_data"
    }
   ],
   "source": [
    "# Plot a box plot\n",
    "kick.boxplot(column='goal', by='status')"
   ]
  },
  {
   "cell_type": "markdown",
   "metadata": {},
   "source": [
    "<font color=blue>We cannot infer much from this boxplot because of the variation in goal amount. Plotting the log transformed values of goal will paint a better picture. Let's try that</font>"
   ]
  },
  {
   "cell_type": "code",
   "execution_count": 32,
   "metadata": {},
   "outputs": [
    {
     "data": {
      "image/png": "[encoded data removed]",
      "text/plain": [
       "<Figure size 432x288 with 1 Axes>"
      ]
     },
     "metadata": {
      "needs_background": "light"
     },
     "output_type": "display_data"
    }
   ],
   "source": [
    "#Log transform goal amount\n",
    "kick.loc[:,'log_goal'] = np.log10(kick.goal)\n",
    "sns.boxplot(y='log_goal', x='status', data=kick)\n",
    "plt.ylabel('Log Transformed Goal Amount')\n",
    "plt.show()"
   ]
  },
  {
   "cell_type": "markdown",
   "metadata": {},
   "source": [
    "<font color=blue>\n",
    " - This boxplot shows that lower goal amount usually leads to a successful campaign <br>\n",
    " - Median goal amount for successful campaign is around 4,000 dollars <br>\n",
    "</font>"
   ]
  },
  {
   "cell_type": "code",
   "execution_count": 33,
   "metadata": {},
   "outputs": [],
   "source": [
    "# Get year and month from funded date column to see if they play a role in determining the outcome of campaign\n",
    "kick.loc[:,'year']=pd.DatetimeIndex(kick['funded date']).year\n",
    "kick.loc[:,'month']=pd.DatetimeIndex(kick['funded date']).month\n",
    "\n",
    "kick.year = kick.year.astype('category')"
   ]
  },
  {
   "cell_type": "code",
   "execution_count": 34,
   "metadata": {},
   "outputs": [],
   "source": [
    "# Get percentage of project by year and status\n",
    "year_status = kick.groupby(['year','status']).size().unstack().fillna(0)\n",
    "year_status.loc[:,'canceled':'suspended'] = year_status.loc[:,'canceled':'suspended'].div(year_status.sum(axis=1),axis=0)*100\n",
    "year_status = np.round(year_status,2)"
   ]
  },
  {
   "cell_type": "code",
   "execution_count": 35,
   "metadata": {},
   "outputs": [
    {
     "data": {
      "image/png": "[encoded data removed]",
      "text/plain": [
       "<Figure size 432x288 with 1 Axes>"
      ]
     },
     "metadata": {
      "needs_background": "light"
     },
     "output_type": "display_data"
    }
   ],
   "source": [
    "#plotting a stacked bar chart\n",
    "year_status.plot(kind='bar', stacked=True)\n",
    "plt.legend(bbox_to_anchor=(1.3,1))\n",
    "plt.xlabel('')\n",
    "plt.ylabel('Percentage of Projects')\n",
    "plt.show()"
   ]
  },
  {
   "cell_type": "markdown",
   "metadata": {},
   "source": [
    "<font color=blue>\n",
    " - We have about same percentage of successful and failed campaigns every year <br>\n",
    " - Some of the campaigns were still live in 2012 showing as green in the plot above <br>\n",
    "</font>"
   ]
  },
  {
   "cell_type": "code",
   "execution_count": 36,
   "metadata": {},
   "outputs": [],
   "source": [
    "# Convert numerical month to month abbreviation\n",
    "from pandas.api.types import CategoricalDtype\n",
    "import calendar\n",
    "kick.month = kick.month.apply(lambda x: calendar.month_abbr[x])\n",
    "month_ordered = CategoricalDtype(categories = calendar.month_abbr[1:13], ordered=True)\n",
    "kick.month = kick.month.astype(month_ordered)"
   ]
  },
  {
   "cell_type": "code",
   "execution_count": 37,
   "metadata": {},
   "outputs": [],
   "source": [
    "# Get percentage of project by month and status\n",
    "month_status = kick.groupby(['month', 'status']).size().unstack().fillna(0)\n",
    "month_status.loc[:,'canceled':'suspended'] = month_status.loc[:,'canceled':'suspended'].div(month_status.sum(axis=1), axis=0)*100\n",
    "month_status = np.round(month_status,2)"
   ]
  },
  {
   "cell_type": "code",
   "execution_count": 38,
   "metadata": {},
   "outputs": [
    {
     "data": {
      "image/png": "[encoded data removed]",
      "text/plain": [
       "<Figure size 432x288 with 1 Axes>"
      ]
     },
     "metadata": {
      "needs_background": "light"
     },
     "output_type": "display_data"
    }
   ],
   "source": [
    "# plotting a stacked bar chart\n",
    "month_status.plot(kind='bar', stacked=True)\n",
    "plt.legend(bbox_to_anchor=(1.3,1))\n",
    "plt.xlabel('')\n",
    "plt.ylabel('Percentage of Projects')\n",
    "plt.show()"
   ]
  },
  {
   "cell_type": "markdown",
   "metadata": {},
   "source": [
    "<font color=blue>\n",
    " - Launch month does not appear to have any impact on the success or failure of the campaign <br>\n",
    " - Green bars represent the projects that were still live in the month of Jun/July <br>\n",
    "<font>"
   ]
  },
  {
   "cell_type": "code",
   "execution_count": 39,
   "metadata": {},
   "outputs": [],
   "source": [
    "# creating a day of the week column from funded date\n",
    "kick.loc[:,'day']=pd.DatetimeIndex(kick['funded date']).weekday\n",
    "kick.day = kick.day.apply(lambda x: calendar.day_abbr[x])\n",
    "day_category = CategoricalDtype(categories=calendar.day_abbr[0:8], ordered=True)\n",
    "kick.day = kick.day.astype(day_category)\n",
    "day_status = kick.groupby(['day','status']).size().unstack().fillna(0)"
   ]
  },
  {
   "cell_type": "code",
   "execution_count": 40,
   "metadata": {},
   "outputs": [
    {
     "data": {
      "image/png": "[encoded data removed]",
      "text/plain": [
       "<Figure size 432x288 with 1 Axes>"
      ]
     },
     "metadata": {
      "needs_background": "light"
     },
     "output_type": "display_data"
    }
   ],
   "source": [
    "# Get percentage of project by day and status\n",
    "day_status = day_status.div(day_status.sum(axis=1), axis=0)*100\n",
    "day_status = np.round(day_status, 2)\n",
    "day_status.plot(kind='bar', stacked=True)\n",
    "plt.ylabel('Percentage Of Campaigns')\n",
    "plt.xlabel('')\n",
    "plt.legend(bbox_to_anchor=(1.3,1))\n",
    "plt.show()"
   ]
  },
  {
   "cell_type": "markdown",
   "metadata": {},
   "source": [
    "<font color=blue>\n",
    " - Launch day of the week does not appear to have any impact on the success or failure of the campaign <br>\n",
    " - Percentage of successful campaigns remains consistent throughout the week <br>\n",
    "</font>"
   ]
  },
  {
   "cell_type": "code",
   "execution_count": 41,
   "metadata": {},
   "outputs": [],
   "source": [
    "#create a day of the month column\n",
    "kick.loc[:,'day_of_month']=pd.DatetimeIndex(kick['funded date']).day\n",
    "day_of_month_status = kick.groupby(['day_of_month','status']).size().unstack().fillna(0)"
   ]
  },
  {
   "cell_type": "code",
   "execution_count": 42,
   "metadata": {},
   "outputs": [
    {
     "data": {
      "image/png": "[encoded data removed]",
      "text/plain": [
       "<Figure size 432x288 with 1 Axes>"
      ]
     },
     "metadata": {
      "needs_background": "light"
     },
     "output_type": "display_data"
    }
   ],
   "source": [
    "#Get percentage of projects by day of the month and status\n",
    "day_of_month_status = day_of_month_status.div(day_of_month_status.sum(axis=1), axis=0)*100\n",
    "day_of_month_status = np.round(day_of_month_status, 2)\n",
    "day_of_month_status.plot(kind='bar', stacked=True)\n",
    "plt.ylabel('Percentage Of Campaigns')\n",
    "plt.xlabel('')\n",
    "plt.legend(bbox_to_anchor=(1.3,1))\n",
    "plt.show()"
   ]
  },
  {
   "cell_type": "markdown",
   "metadata": {},
   "source": [
    "<font color=blue>\n",
    " - The day of the month does not appear to have any impact on the outcome of the campaign either <br>\n",
    "</font>"
   ]
  },
  {
   "cell_type": "code",
   "execution_count": 43,
   "metadata": {},
   "outputs": [
    {
     "data": {
      "image/png": "[encoded data removed]",
      "text/plain": [
       "<Figure size 432x288 with 1 Axes>"
      ]
     },
     "metadata": {
      "needs_background": "light"
     },
     "output_type": "display_data"
    }
   ],
   "source": [
    "kick.groupby(['year']).size().plot()\n",
    "plt.xlabel('Year')\n",
    "plt.ylabel('Number of Campaigns')\n",
    "plt.show()"
   ]
  },
  {
   "cell_type": "markdown",
   "metadata": {},
   "source": [
    "<font color=blue>\n",
    " - The number of campaigns shot up from hundreds to thousands in a couple of years <br>\n",
    " - We do not have complete data for 2012 and that might exmplain the dip <br>\n",
    "</font>    "
   ]
  },
  {
   "cell_type": "code",
   "execution_count": 44,
   "metadata": {},
   "outputs": [
    {
     "data": {
      "text/plain": [
       "71.16224044222233"
      ]
     },
     "execution_count": 44,
     "metadata": {},
     "output_type": "execute_result"
    }
   ],
   "source": [
    "kick.pledged.sum()/kick.backers.sum()"
   ]
  },
  {
   "cell_type": "markdown",
   "metadata": {},
   "source": [
    "<font color=blue>\n",
    " - On average backers pledge 71 dollars for a campaign"
   ]
  },
  {
   "cell_type": "code",
   "execution_count": 45,
   "metadata": {},
   "outputs": [],
   "source": [
    "# Get pledge per backer by category\n",
    "cat_pledged_backer = kick.groupby(['category']).agg( {'pledged': 'sum' , 'backers':'sum'})\n",
    "cat_pledged_backer.loc[:,'average_pledge'] = cat_pledged_backer['pledged']/cat_pledged_backer['backers']"
   ]
  },
  {
   "cell_type": "code",
   "execution_count": 46,
   "metadata": {},
   "outputs": [
    {
     "data": {
      "image/png": "[encoded data removed]",
      "text/plain": [
       "<Figure size 432x288 with 1 Axes>"
      ]
     },
     "metadata": {
      "needs_background": "light"
     },
     "output_type": "display_data"
    }
   ],
   "source": [
    "#Plotting bar chart\n",
    "cat_pledged_backer.dropna().average_pledge.plot(kind='bar')\n",
    "plt.show()"
   ]
  },
  {
   "cell_type": "markdown",
   "metadata": {},
   "source": [
    "<font color=blue>\n",
    " - Film & Video category has the highest average pledge in the vicinity of 90 dollars\n",
    "</font>"
   ]
  },
  {
   "cell_type": "code",
   "execution_count": null,
   "metadata": {},
   "outputs": [],
   "source": []
  }
 ],
 "metadata": {
  "kernelspec": {
   "display_name": "Python 3",
   "language": "python",
   "name": "python3"
  },
  "language_info": {
   "codemirror_mode": {
    "name": "ipython",
    "version": 3
   },
   "file_extension": ".py",
   "mimetype": "text/x-python",
   "name": "python",
   "nbconvert_exporter": "python",
   "pygments_lexer": "ipython3",
   "version": "3.7.5"
  }
 },
 "nbformat": 4,
 "nbformat_minor": 4
}
